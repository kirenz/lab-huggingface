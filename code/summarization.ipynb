{
    "cells": [
        {
            "cell_type": "markdown",
            "metadata": {},
            "source": [
                "# Text Summarization Hugging Face Pipeline\n",
                "\n",
                "\n",
                "# Setup\n"
            ]
        },
        {
            "cell_type": "code",
            "metadata": {},
            "source": [
                "from transformers import pipeline"
            ],
            "execution_count": null,
            "outputs": []
        },
        {
            "cell_type": "markdown",
            "metadata": {},
            "source": [
                "# Intuition\n",
                "\n",
                "- Summarization creates a shorter version of a text from a longer one while trying to preserve most of the meaning of the original document. \n",
                "\n",
                "- Summarization is a sequence-to-sequence task\n",
                "\n",
                "\n",
                "## Use Cases\n",
                "\n",
                "- Help readers quickly understand the main points. \n",
                "\n",
                "- Legislative bills, legal and financial documents, patents, and scientific papers ...\n",
                "\n",
                "## Two types of summarization:\n",
                "\n",
                "- *extractive*: identify and extract the most important sentences from the original text.\n",
                "\n",
                "- *abstractive*: generate the target summary (which may include new words not in the input document) from the original text\n",
                "\n",
                "\n",
                "# Pipeline \n",
                "\n",
                "## Create pipeline"
            ]
        },
        {
            "cell_type": "code",
            "metadata": {},
            "source": [
                "summarizer = pipeline(task=\"summarization\")"
            ],
            "execution_count": null,
            "outputs": []
        },
        {
            "cell_type": "markdown",
            "metadata": {},
            "source": [
                "## Provide text {.smaller}\n",
                "\n",
                "- Paragraph about observational studies and experiments from [Introduction to Modern Statistics](https://openintro-ims.netlify.app/data-hello.html#observational-studies-and-experiments)\n",
                "\n",
                ""
            ]
        },
        {
            "cell_type": "code",
            "metadata": {},
            "source": [
                "my_text = \"When researchers want to evaluate the effect of particular traits, treatments, \\\n",
                "or conditions, they conduct an experiment. For instance, we may suspect drinking a \\\n",
                "high-calorie energy drink will improve performance in a race. To check if there \\\n",
                "really is a causal relationship between the explanatory variable (whether the \\\n",
                "runner drank an energy drink or not) and the response variable (the race time), \\\n",
                " researchers identify a sample of individuals and split them into groups. \\\n",
                " The individuals in each group are assigned a treatment. When individuals are \\\n",
                " randomly assigned to a group, the experiment is called a randomized experiment. \\\n",
                " Random assignment organizes the participants in a study into groups that are roughly \\\n",
                " equal on all aspects, thus allowing us to control for any confounding variables that \\\n",
                "  might affect the outcome (e.g., fitness level, racing experience, etc.). For example, \\\n",
                "   each runner in the experiment could be randomly assigned, perhaps by flipping a coin,  \\\n",
                "into one of two groups: the first group receives a placebo (fake treatment, in this case  \\\n",
                "a no-calorie drink) and the second group receives the high-calorie energy drink.  \\\n",
                "See the case study in Section 1.1 for another example of an experiment, though that  \\\n",
                "study did not employ a placebo. Researchers perform an observational study when they  \\\n",
                "collect data in a way that does not directly interfere with how the data arise.  \\\n",
                "For instance, researchers may collect information via surveys, review medical or company  \\\n",
                "records, or follow a cohort of many similar individuals to form hypotheses about why  \\\n",
                "certain diseases might develop. In each of these situations, researchers merely observe  \\\n",
                "the data that arise. In general, observational studies can provide evidence of a naturally  \\\n",
                "occurring association between variables, but they cannot by themselves show a causal connection  \\\n",
                "as they do not offer a mechanism for controlling for confounding variables.\""
            ],
            "execution_count": null,
            "outputs": []
        },
        {
            "cell_type": "markdown",
            "metadata": {},
            "source": [
                "## Summarizer"
            ]
        },
        {
            "cell_type": "code",
            "metadata": {},
            "source": [
                "summarizer(my_text, min_length=20, max_length=80)"
            ],
            "execution_count": null,
            "outputs": []
        }
    ],
    "metadata": {
        "kernelspec": {
            "name": "python3",
            "language": "python",
            "display_name": "Python 3 (ipykernel)"
        }
    },
    "nbformat": 4,
    "nbformat_minor": 4
}