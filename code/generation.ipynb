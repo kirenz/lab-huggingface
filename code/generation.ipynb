{
    "cells": [
        {
            "cell_type": "markdown",
            "metadata": {},
            "source": [
                "# Text generation\n",
                "\n",
                "# Setup\n"
            ]
        },
        {
            "cell_type": "code",
            "metadata": {},
            "source": [
                "from transformers import pipeline"
            ],
            "execution_count": null,
            "outputs": []
        },
        {
            "cell_type": "markdown",
            "metadata": {},
            "source": [
                "# Intuition\n",
                "\n",
                "![](../images/text-generation.png)\n",
                "\n",
                "\n",
                "## Use Cases\n",
                "\n",
                "- Stories Generation\n",
                "\n",
                "- Code Generation: can help programmers in their repetitive coding tasks.\n",
                "\n",
                "## Task Variants {.smaller}\n",
                "\n",
                "- Completion Generation Models\n",
                "  - Given an incomplete sentence, complete it.\n",
                "  - Continue a story given the first sentences.\n",
                "  - Provided a code description, generate the code.\n",
                "\n",
                "- Text-to-Text Generation Models\n",
                "  - Translation\n",
                "  - Summarization\n",
                "  - Text classification\n",
                "\n",
                "- Inference\n",
                "  -  takes an incomplete text and returns multiple outputs with which the text can be completed.\n",
                "\n",
                "# Pipeline example \n",
                "\n",
                "## Create pipeline with GPT-2"
            ]
        },
        {
            "cell_type": "code",
            "metadata": {},
            "source": [
                "generator = pipeline('text-generation', model='gpt2')"
            ],
            "execution_count": null,
            "outputs": []
        },
        {
            "cell_type": "markdown",
            "metadata": {},
            "source": [
                "## Provide text"
            ]
        },
        {
            "cell_type": "code",
            "metadata": {},
            "source": [
                "my_text = \"Hello, I study online media management\""
            ],
            "execution_count": null,
            "outputs": []
        },
        {
            "cell_type": "markdown",
            "metadata": {},
            "source": [
                "## Make inference"
            ]
        },
        {
            "cell_type": "code",
            "metadata": {},
            "source": [
                "generator(my_text, max_length=30, num_return_sequences=3)"
            ],
            "execution_count": null,
            "outputs": []
        },
        {
            "cell_type": "markdown",
            "metadata": {},
            "source": [
                "## Output\n"
            ]
        },
        {
            "cell_type": "code",
            "metadata": {},
            "source": [
                "[{'generated_text': 'Hello, I study online media management, and while most of my courses focus on the business, I specialize in online development.\\n\\nIf you know'},\n",
                "\n",
                " {'generated_text': 'Hello, I study online media management at a computer-focused high school. One of my favorite exercises is watching and reading my students write things.\\n'},\n",
                "\n",
                " {'generated_text': 'Hello, I study online media management, so I know that it\\'s not the best idea to be a part of the digital environment yourself.\"\\n\\n'}]"
            ],
            "execution_count": null,
            "outputs": []
        }
    ],
    "metadata": {
        "kernelspec": {
            "name": "python3",
            "language": "python",
            "display_name": "Python 3 (ipykernel)"
        }
    },
    "nbformat": 4,
    "nbformat_minor": 4
}