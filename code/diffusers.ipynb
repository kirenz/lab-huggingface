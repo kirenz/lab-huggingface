{
    "cells": [
        {
            "cell_type": "markdown",
            "metadata": {},
            "source": [
                "# 🧨 Diffusers\n",
                "\n",
                "# Setup"
            ]
        },
        {
            "cell_type": "code",
            "metadata": {},
            "source": [
                "from diffusers import StableDiffusionPipeline"
            ],
            "execution_count": null,
            "outputs": []
        },
        {
            "cell_type": "markdown",
            "metadata": {},
            "source": [
                "## Basics\n",
                "\n",
                "- [diffusers](https://github.com/huggingface/diffusers): A Python library maintained at 🤗 \n",
                "\n",
                "- Providing open and responsible access to pre-trained diffusion models. \n",
                "\n",
                "- Democratizing the ecosystem of diffusion models by making them easy to use.\n",
                "\n",
                "# Text-to-image with 🧨 diffusers\n",
                "\n",
                "Note that there are differences between Mac silicon and Windows. \n",
                "\n",
                "## Diffusers (Mac silicon) {.smaller}\n"
            ]
        },
        {
            "cell_type": "code",
            "metadata": {},
            "source": [
                "model_id = \"runwayml/stable-diffusion-v1-5\"\n",
                "\n",
                "pipeline = StableDiffusionPipeline.from_pretrained(model_id)\n",
                "\n",
                "pipeline = pipeline.to('mps')\n",
                "\n",
                "# Recommended if your computer has < 64 GB of RAM\n",
                "pipeline.enable_attention_slicing()\n",
                "\n",
                "image = pipeline(\n",
                "    \"An astronaut floating through space while plying the guitar\").images[0]\n",
                "\n",
                "image.save(\"../images/diffusion_astronaut.png\")"
            ],
            "execution_count": null,
            "outputs": []
        },
        {
            "cell_type": "markdown",
            "metadata": {},
            "source": [
                "## Output\n",
                "\n",
                "![](/images/diffusion_astronaut.png)\n",
                "\n",
                "\n",
                "## Diffusers on Windows and Mac Intel"
            ]
        },
        {
            "cell_type": "code",
            "metadata": {},
            "source": [
                "model_id = \"runwayml/stable-diffusion-v1-5\"\n",
                "\n",
                "pipeline = StableDiffusionPipeline.from_pretrained(model_id)\n",
                "\n",
                "pipeline = pipeline.to(\"cuda\")\n",
                "\n",
                "image = pipeline(\"An astronaut riding a tiger\").images[0]\n",
                "\n",
                "image.save(\"image.png\")"
            ],
            "execution_count": null,
            "outputs": []
        }
    ],
    "metadata": {
        "kernelspec": {
            "name": "python3",
            "language": "python",
            "display_name": "Python 3 (ipykernel)"
        }
    },
    "nbformat": 4,
    "nbformat_minor": 4
}