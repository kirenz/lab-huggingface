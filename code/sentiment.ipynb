{
    "cells": [
        {
            "cell_type": "markdown",
            "metadata": {},
            "source": [
                "# Sentimant Analysis with Hugging Face\n",
                "\n",
                "\n",
                "# Setup"
            ]
        },
        {
            "cell_type": "code",
            "metadata": {},
            "source": [
                "from transformers import pipeline"
            ],
            "execution_count": null,
            "outputs": []
        },
        {
            "cell_type": "markdown",
            "metadata": {},
            "source": [
                "# Intuition\n",
                "\n",
                "![](../images/text-classification.png)\n",
                "\n",
                "- Text classification: assigning a label or class to a given text\n",
                "\n",
                "- Sentiment analysis is the automated process of tagging data according to their sentiment:\n",
                "  - Positive, negative and neutral\n",
                "\n",
                "\n",
                "## Use Cases\n",
                "\n",
                "- Sentiment Analysis on Customer Reviews\n",
                "\n",
                "- You can track the sentiments of your customers from the product reviews using sentiment analysis models. \n",
                "\n",
                "- This can help understand churn and retention by grouping reviews by sentiment, to later analyze the text and make strategic decisions based on this knowledge.\n",
                "\n",
                "\n",
                "# Pipeline\n",
                "\n",
                "## Pipeline example with default model\n"
            ]
        },
        {
            "cell_type": "code",
            "metadata": {},
            "source": [
                "# | code-line-numbers: \"|1|3|4|6\"\n",
                "\n",
                "sentiment_pipeline = pipeline(\"sentiment-analysis\")\n",
                "\n",
                "data = [\"I love you\",\n",
                "        \"I hate you\"]\n",
                "\n",
                "sentiment_pipeline(data)"
            ],
            "execution_count": null,
            "outputs": []
        },
        {
            "cell_type": "markdown",
            "metadata": {},
            "source": [
                "- Output:\n",
                "\n",
                " \n",
                "\n",
                "```{bash}\n",
                "[{'label': 'POSITIVE', 'score': 0.9998656511306763},\n",
                " {'label': 'NEGATIVE', 'score': 0.9991129040718079}]\n",
                "```\n",
                "\n",
                "\n",
                "## Pipeline example with specific model"
            ]
        },
        {
            "cell_type": "code",
            "metadata": {},
            "source": [
                "specific_model = pipeline(\n",
                "    model=\"finiteautomata/bertweet-base-sentiment-analysis\")"
            ],
            "execution_count": null,
            "outputs": []
        },
        {
            "cell_type": "markdown",
            "metadata": {},
            "source": [
                ""
            ]
        },
        {
            "cell_type": "code",
            "metadata": {},
            "source": [
                "specific_model(data)"
            ],
            "execution_count": null,
            "outputs": []
        }
    ],
    "metadata": {
        "kernelspec": {
            "name": "python3",
            "language": "python",
            "display_name": "Python 3 (ipykernel)"
        }
    },
    "nbformat": 4,
    "nbformat_minor": 4
}